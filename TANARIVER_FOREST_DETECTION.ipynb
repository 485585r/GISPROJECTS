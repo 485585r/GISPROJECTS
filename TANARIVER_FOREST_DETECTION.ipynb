{
 "cells": [
  {
   "cell_type": "markdown",
   "id": "cb0a25a1",
   "metadata": {},
   "source": [
    "Tana River Forest Classifier made by Kaiden Simon"
   ]
  },
  {
   "cell_type": "code",
   "execution_count": 3,
   "id": "7df4a0e5",
   "metadata": {},
   "outputs": [
    {
     "data": {
      "text/html": [
       "<p>To authorize access needed by Earth Engine, open the following\n",
       "        URL in a web browser and follow the instructions:</p>\n",
       "        <p><a href=https://code.earthengine.google.com/client-auth?scopes=https%3A//www.googleapis.com/auth/earthengine%20https%3A//www.googleapis.com/auth/devstorage.full_control&request_id=OtJHPgEYGsx_pxs__i2eJFCyFwsur3bvpXbA9yd5ow8&tc=g6rbUXVAFV7nJVteY7aKLYTQs0g6eqw9byhjO7tqKUQ&cc=H_tM3ea7mWaJP0aaUlBAJcZObtjnB1JwEBDvapj5l80>https://code.earthengine.google.com/client-auth?scopes=https%3A//www.googleapis.com/auth/earthengine%20https%3A//www.googleapis.com/auth/devstorage.full_control&request_id=OtJHPgEYGsx_pxs__i2eJFCyFwsur3bvpXbA9yd5ow8&tc=g6rbUXVAFV7nJVteY7aKLYTQs0g6eqw9byhjO7tqKUQ&cc=H_tM3ea7mWaJP0aaUlBAJcZObtjnB1JwEBDvapj5l80</a></p>\n",
       "        <p>The authorization workflow will generate a code, which you should paste in the box below.</p>\n",
       "        "
      ],
      "text/plain": [
       "<IPython.core.display.HTML object>"
      ]
     },
     "metadata": {},
     "output_type": "display_data"
    },
    {
     "name": "stdout",
     "output_type": "stream",
     "text": [
      "Enter verification code: 4/1Adeu5BWcFwxyaSp2iWFCzR5LlmJ-O99kIZy2MB04YgX5oRQrhosinVTyLMI\n",
      "\n",
      "Successfully saved authorization token.\n"
     ]
    },
    {
     "data": {
      "application/vnd.jupyter.widget-view+json": {
       "model_id": "412de4838f1e4b62a2617f761ad4f95b",
       "version_major": 2,
       "version_minor": 0
      },
      "text/plain": [
       "Map(center=[-0.9518791821998106, 39.87609231323469], controls=(WidgetControl(options=['position', 'transparent…"
      ]
     },
     "execution_count": 3,
     "metadata": {},
     "output_type": "execute_result"
    }
   ],
   "source": [
    "import geemap\n",
    "import ee\n",
    "import collections\n",
    "collections.Callable = collections.abc.Callable\n",
    "ee.Authenticate()\n",
    "ee.Initialize()\n",
    "\n",
    "tanariver = ee.FeatureCollection(\"projects/vpnww-299518/assets/tanariver\")#Access via the assets tab in GEE(Table ID).\n",
    "start_date=\"2018-01-01\"#Set start_date(yy/mon/day)\n",
    "end_date=\"2020-03-31\"#Set End_date(yy/mon/day)\n",
    "season = ee.Filter.date(start_date,end_date);#Filter image based on the time frame(start_date and end_date)\n",
    "\n",
    "#-------------SENTINEL 1A(SAR) DATA------------------#\n",
    "sentinel_1= ee.ImageCollection('COPERNICUS/S1_GRD');\n",
    "sCollection=sentinel_1\\\n",
    ".filterBounds(tanariver) \\\n",
    ".filter(season) \\\n",
    ".filter(ee.Filter.listContains('transmitterReceiverPolarisation', 'VV')) \\\n",
    ".filter(ee.Filter.listContains('transmitterReceiverPolarisation', 'VH')) \\\n",
    ".filter(ee.Filter.eq('instrumentMode', 'IW'))\n",
    "desc=sCollection.filter(ee.Filter.eq('orbitProperties_pass', 'DESCENDING'));\n",
    "asc=sCollection.filter(ee.Filter.eq('orbitProperties_pass', 'ASCENDING'));\n",
    "\n",
    "composite = ee.Image.cat([\n",
    "  asc.select('VH').mean(),\n",
    "  asc.select('VV').mean(),\n",
    "  desc.select('VH').mean()\n",
    "]).focal_median();\n",
    "composite.getInfo()\n",
    "\n",
    "sentinel_2A = ee.ImageCollection('COPERNICUS/S2')\\\n",
    ".filterBounds(tanariver)\\\n",
    ".filterDate(\"2019-01-01\",\"2020-01-01\")\\\n",
    ".filter(ee.Filter.lt(\"CLOUDY_PIXEL_PERCENTAGE\",10))\\\n",
    ".median()\\\n",
    ".select('B2', 'B3', 'B4', 'B5', 'B6', 'B7','B8', 'B10', 'B11')\\\n",
    ".clip(tanariver)#This Clips the imagery to our Study Area Extent\n",
    "\n",
    "sentinel_2Avispar={\"min\":0, \"max\":2500,\"bands\": ['B4','B3','B2']}#Visualization parameters used.\n",
    "\n",
    "\n",
    "Fused_images = sentinel_2A.addBands(composite)#Creation of composite image of sentinel 1 and sentinel 2A\n",
    "#Visualization parameters for fused images.\n",
    "fused_vis = {\n",
    "        'min':0,\n",
    "        'max'  : 2500,\n",
    "        'bands' : ['B2', 'B3','B4']#Band selection.\n",
    "    }\n",
    "\n",
    "vis_params = {'bands': ['B4', 'B3', 'B2'], 'min': 0.0, 'max': 5000.0, 'opacity': 1.0, 'gamma': 1.0}\n",
    "\n",
    "\n",
    "#The classifier is based on the property with a given unique value i.e all class picked as forest_high has a given unique value (0).\n",
    "training = ee.FeatureCollection('projects/vpnww-299518/assets/tanariverTrainingAsset1GEE')\n",
    "\n",
    "#Create a buffer:\n",
    "# training = training1.map(lambda f: f.buffer(5)) #This if you want the points/ Pplygons you use for classification to be in a 5M Buffer.\n",
    "# Map.addLayer(training1,{},\"buffer\")\n",
    "label = 'landcover'#Unique property(landcover) with different unique values..\n",
    "bands=[\"B4\",\"B3\",\"B2\",\"VV\",\"VH\"]\n",
    "Input=Fused_images.select(bands)\n",
    "trainImage=Input.sampleRegions(**{\n",
    "    'collection':training,\n",
    "    'properties':[label],\n",
    "    'scale':30\n",
    "})\n",
    "\n",
    "trainingData=trainImage.randomColumn()\n",
    "\n",
    "trainSet=trainingData.filter(ee.Filter.lessThan('random',0.75))\n",
    "testdata=trainingData.filter(ee.Filter.greaterThanOrEquals('random',0.75))#visualization parameters applied on the Random forest classifier\n",
    "init_params = {\"numberOfTrees\":90, # the number of individual decision tree models\n",
    "              \"variablesPerSplit\":None,  # the number of features to use per split\n",
    "              \"minLeafPopulation\":1, # smallest sample size possible per leaf\n",
    "              \"bagFraction\":0.5, # fraction of data to include for each individual tree model\n",
    "              \"maxNodes\":None, # max number of leafs/nodes per tree\n",
    "               \"seed\":0}  # random seed for \"random\" choices like sampling. Setting this allows others to reproduce your exact results even with stocastic parameters\n",
    "\n",
    "classifier = ee.Classifier.smileRandomForest(**init_params).train(trainSet, label, bands)\n",
    "# Classify the image.\n",
    "\n",
    "#Application of the random forest classifier for the purpose of image classification.\n",
    "classified=Input.classify(classifier)\n",
    "palette = [\n",
    "  'darkgreen', #forest_high(0)\n",
    "  'lightgreen', #forest_medium(1)#90ee90\n",
    " ];\n",
    "Map=geemap.Map()\n",
    "Map.addLayer(classified,\n",
    "             {'min': 0, 'max': 1, 'palette': palette},\n",
    "             'classification')\n",
    "Map.centerObject(tanariver, 14)\n",
    "Map.addLayer(Fused_images,fused_vis,\"Intergrated_image\",False)\n",
    "\n",
    "Map"
   ]
  },
  {
   "cell_type": "code",
   "execution_count": 4,
   "id": "9b3c5715",
   "metadata": {},
   "outputs": [
    {
     "data": {
      "text/plain": [
       "[[118, 0], [1, 56]]"
      ]
     },
     "execution_count": 4,
     "metadata": {},
     "output_type": "execute_result"
    }
   ],
   "source": [
    "train_accuracy = classifier.confusionMatrix()\n",
    "train_accuracy.getInfo()"
   ]
  },
  {
   "cell_type": "code",
   "execution_count": 9,
   "id": "72271270",
   "metadata": {},
   "outputs": [],
   "source": [
    "train_accuracy = classifier.confusionMatrix()\n",
    "overall_accuracy= train_accuracy.accuracy()#Overall classification accuracy\n",
    "overall_accuracy_perc=overall_accuracy.multiply(100)\n",
    "overall_accuracy_tranc=ee.Number(overall_accuracy_perc).format('%.3f')\n",
    "print('Overall Accuracy:',overall_accuracy_tranc.getInfo())"
   ]
  },
  {
   "cell_type": "code",
   "execution_count": 10,
   "id": "77bd2fc4",
   "metadata": {},
   "outputs": [],
   "source": [
    "kappa_accuracy=train_accuracy.kappa().multiply(100)#Kappa accuracy\n",
    "kappa_accuracy_tran=ee.Number(kappa_accuracy).format('%.3f')\n",
    "print('Kappa Accuracy:',kappa_accuracy_tran.getInfo())"
   ]
  },
  {
   "cell_type": "code",
   "execution_count": 11,
   "id": "94fb96bf",
   "metadata": {},
   "outputs": [],
   "source": [
    "train_accuracy.producersAccuracy().getInfo(),(\"Producer_Accuracy\")"
   ]
  },
  {
   "cell_type": "code",
   "execution_count": 12,
   "id": "49fcb4dd",
   "metadata": {},
   "outputs": [],
   "source": [
    "#ESTIMATED CROP AREA\n",
    "Total_studyArea= classified.geometry().area()\n",
    "Total_AreaSqKm = ee.Number(Total_studyArea).divide(4046.86).round()\n",
    "names = ['forest_high','forest_low','forest_medium','water','builtup','bareland','agriculture']\n",
    "\n",
    "count = classified.eq([0,1,2,3,4,5,6])#\n",
    "\n",
    "Estimated_area = count.multiply(ee.Image.pixelArea()).divide(4046.86).rename(names)#mutiply and divide the area with 1e6 to conv into km\n",
    "\n",
    "crop_area = Estimated_area.reduceRegion(**{\n",
    "  'reducer': ee.Reducer.sum(),\n",
    "  'geometry': tanariver,\n",
    "  'scale': 30,\n",
    "  'maxPixels': 1e9\n",
    "})\n",
    "# print(crop_area,\"Crop Area in Acres:\")\n",
    "print(\"Estimated Class areas (Acres) \")\n",
    "\n",
    "# Total_AreaSqKm.getInfo()\n",
    "def trancuate(key, value):\n",
    "    return ee.Number(value).format('%.3f')\n",
    "\n",
    "areatran = crop_area.map(trancuate)\n",
    "areatran.getInfo()"
   ]
  },
  {
   "cell_type": "code",
   "execution_count": null,
   "id": "50a8e35e",
   "metadata": {},
   "outputs": [],
   "source": []
  },
  {
   "cell_type": "code",
   "execution_count": null,
   "id": "2910258b",
   "metadata": {},
   "outputs": [],
   "source": []
  },
  {
   "cell_type": "code",
   "execution_count": null,
   "id": "b3f42d81",
   "metadata": {},
   "outputs": [],
   "source": []
  }
 ],
 "metadata": {
  "kernelspec": {
   "display_name": "Python 3 (ipykernel)",
   "language": "python",
   "name": "python3"
  },
  "language_info": {
   "codemirror_mode": {
    "name": "ipython",
    "version": 3
   },
   "file_extension": ".py",
   "mimetype": "text/x-python",
   "name": "python",
   "nbconvert_exporter": "python",
   "pygments_lexer": "ipython3",
   "version": "3.10.9"
  }
 },
 "nbformat": 4,
 "nbformat_minor": 5
}
